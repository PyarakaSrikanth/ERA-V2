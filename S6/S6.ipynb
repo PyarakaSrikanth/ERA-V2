{
  "nbformat": 4,
  "nbformat_minor": 0,
  "metadata": {
    "colab": {
      "provenance": [],
      "gpuType": "T4"
    },
    "kernelspec": {
      "name": "python3",
      "display_name": "Python 3"
    },
    "accelerator": "GPU"
  },
  "cells": [
    {
      "cell_type": "code",
      "metadata": {
        "id": "0m2JWFliFfKT"
      },
      "source": [
        "from __future__ import print_function\n",
        "import torch\n",
        "import torch.nn as nn\n",
        "import torch.nn.functional as F\n",
        "import torch.optim as optim\n",
        "from torchvision import datasets, transforms"
      ],
      "execution_count": 1,
      "outputs": []
    },
    {
      "cell_type": "code",
      "metadata": {
        "id": "DjdKtndBvh_B"
      },
      "source": [
        "class Net(nn.Module):\n",
        "    def __init__(self):\n",
        "        super(Net, self).__init__()\n",
        "        self.conv1 = nn.Conv2d(1, 128, 3, padding=1)\n",
        "        self.bn1 = nn.BatchNorm2d(num_features=128)\n",
        "        self.tns1 = nn.Conv2d(128,8,1,padding=1)\n",
        "        self.conv2 = nn.Conv2d(8, 16, 3, padding=1)\n",
        "        self.bn2 = nn.BatchNorm2d(num_features=16)\n",
        "        self.pool1 = nn.MaxPool2d(2, 2)\n",
        "        self.conv3 = nn.Conv2d(16,16,3, padding=1)\n",
        "        self.bn3 = nn.BatchNorm2d(num_features=16)\n",
        "        self.conv4 = nn.Conv2d(16,32,3, padding=1)\n",
        "        self.bn4 = nn.BatchNorm2d(num_features=32)\n",
        "        self.pool2 = nn.MaxPool2d(2, 2)\n",
        "\n",
        "        self.tns2 = nn.Conv2d(32,16,1, padding=1)\n",
        "\n",
        "        self.conv5 = nn.Conv2d(16,16,3, padding=1)\n",
        "        self.bn5 = nn.BatchNorm2d(num_features=16)\n",
        "        self.conv6 = nn.Conv2d(16,32,3, padding=1)\n",
        "        self.bn6 = nn.BatchNorm2d(num_features=32)\n",
        "\n",
        "        self.conv7 = nn.Conv2d(32,10,1, padding=1)\n",
        "\n",
        "        self.gpool = nn.AvgPool2d(7)\n",
        "\n",
        "        self.drop = nn.Dropout2d(0.1)\n",
        "\n",
        "    def forward(self, x):\n",
        "        x = self.tns1(self.drop(self.bn1(F.relu(self.conv1(x)))))\n",
        "        x = self.drop(self.bn2(F.relu(self.conv2(x))))\n",
        "\n",
        "        x = self.pool1(x)\n",
        "\n",
        "        x = self.drop(self.bn3(F.relu(self.conv3(x))))\n",
        "        x = self.drop(self.bn4(F.relu(self.conv4(x))))\n",
        "\n",
        "        x = self.tns2(self.pool2(x))\n",
        "\n",
        "        x = self.drop(self.bn5(F.relu(self.conv5(x))))\n",
        "        x = self.drop(self.bn6(F.relu(self.conv6(x))))\n",
        "\n",
        "        x = self.conv7(x)\n",
        "        x = self.gpool(x)\n",
        "        x = x.view(-1, 10)\n",
        "        return F.log_softmax(x)\n"
      ],
      "execution_count": 2,
      "outputs": []
    },
    {
      "cell_type": "code",
      "metadata": {
        "id": "xdydjYTZFyi3",
        "colab": {
          "base_uri": "https://localhost:8080/"
        },
        "outputId": "4c2d5382-20d8-479b-8caa-f8ffaa464a83"
      },
      "source": [
        "!pip install torchsummary\n",
        "from torchsummary import summary\n",
        "use_cuda = torch.cuda.is_available()\n",
        "device = torch.device(\"cuda\" if use_cuda else \"cpu\")\n",
        "model = Net().to(device)\n",
        "summary(model, input_size=(1, 28, 28))"
      ],
      "execution_count": 3,
      "outputs": [
        {
          "output_type": "stream",
          "name": "stdout",
          "text": [
            "Requirement already satisfied: torchsummary in /usr/local/lib/python3.10/dist-packages (1.5.1)\n",
            "----------------------------------------------------------------\n",
            "        Layer (type)               Output Shape         Param #\n",
            "================================================================\n",
            "            Conv2d-1          [-1, 128, 28, 28]           1,280\n",
            "       BatchNorm2d-2          [-1, 128, 28, 28]             256\n",
            "         Dropout2d-3          [-1, 128, 28, 28]               0\n",
            "            Conv2d-4            [-1, 8, 30, 30]           1,032\n",
            "            Conv2d-5           [-1, 16, 30, 30]           1,168\n",
            "       BatchNorm2d-6           [-1, 16, 30, 30]              32\n",
            "         Dropout2d-7           [-1, 16, 30, 30]               0\n",
            "         MaxPool2d-8           [-1, 16, 15, 15]               0\n",
            "            Conv2d-9           [-1, 16, 15, 15]           2,320\n",
            "      BatchNorm2d-10           [-1, 16, 15, 15]              32\n",
            "        Dropout2d-11           [-1, 16, 15, 15]               0\n",
            "           Conv2d-12           [-1, 32, 15, 15]           4,640\n",
            "      BatchNorm2d-13           [-1, 32, 15, 15]              64\n",
            "        Dropout2d-14           [-1, 32, 15, 15]               0\n",
            "        MaxPool2d-15             [-1, 32, 7, 7]               0\n",
            "           Conv2d-16             [-1, 16, 9, 9]             528\n",
            "           Conv2d-17             [-1, 16, 9, 9]           2,320\n",
            "      BatchNorm2d-18             [-1, 16, 9, 9]              32\n",
            "        Dropout2d-19             [-1, 16, 9, 9]               0\n",
            "           Conv2d-20             [-1, 32, 9, 9]           4,640\n",
            "      BatchNorm2d-21             [-1, 32, 9, 9]              64\n",
            "        Dropout2d-22             [-1, 32, 9, 9]               0\n",
            "           Conv2d-23           [-1, 10, 11, 11]             330\n",
            "        AvgPool2d-24             [-1, 10, 1, 1]               0\n",
            "================================================================\n",
            "Total params: 18,738\n",
            "Trainable params: 18,738\n",
            "Non-trainable params: 0\n",
            "----------------------------------------------------------------\n",
            "Input size (MB): 0.00\n",
            "Forward/backward pass size (MB): 3.08\n",
            "Params size (MB): 0.07\n",
            "Estimated Total Size (MB): 3.15\n",
            "----------------------------------------------------------------\n"
          ]
        },
        {
          "output_type": "stream",
          "name": "stderr",
          "text": [
            "<ipython-input-2-c73bf9564b0f>:46: UserWarning: Implicit dimension choice for log_softmax has been deprecated. Change the call to include dim=X as an argument.\n",
            "  return F.log_softmax(x)\n"
          ]
        }
      ]
    },
    {
      "cell_type": "code",
      "metadata": {
        "id": "DqTWLaM5GHgH"
      },
      "source": [
        "\n",
        "\n",
        "torch.manual_seed(1)\n",
        "batch_size = 128\n",
        "\n",
        "kwargs = {'num_workers': 1, 'pin_memory': True} if use_cuda else {}\n",
        "train_loader = torch.utils.data.DataLoader(\n",
        "    datasets.MNIST('../data', train=True, download=True,\n",
        "                    transform=transforms.Compose([\n",
        "                        transforms.ToTensor(),\n",
        "                        transforms.Normalize((0.1307,), (0.3081,))\n",
        "                    ])),\n",
        "    batch_size=batch_size, shuffle=True, **kwargs)\n",
        "test_loader = torch.utils.data.DataLoader(\n",
        "    datasets.MNIST('../data', train=False, transform=transforms.Compose([\n",
        "                        transforms.ToTensor(),\n",
        "                        transforms.Normalize((0.1307,), (0.3081,))\n",
        "                    ])),\n",
        "    batch_size=batch_size, shuffle=True, **kwargs)\n"
      ],
      "execution_count": 4,
      "outputs": []
    },
    {
      "cell_type": "code",
      "metadata": {
        "id": "8fDefDhaFlwH"
      },
      "source": [
        "from tqdm import tqdm\n",
        "def train(model, device, train_loader, optimizer, epoch):\n",
        "    model.train()\n",
        "    pbar = tqdm(train_loader)\n",
        "    for batch_idx, (data, target) in enumerate(pbar):\n",
        "        data, target = data.to(device), target.to(device)\n",
        "        optimizer.zero_grad()\n",
        "        output = model(data)\n",
        "        loss = F.nll_loss(output, target)\n",
        "        loss.backward()\n",
        "        optimizer.step()\n",
        "        pbar.set_description(desc= f'epoch: {epoch} loss={loss.item()} batch_id={batch_idx}')\n",
        "\n",
        "\n",
        "def test(model, device, test_loader):\n",
        "    model.eval()\n",
        "    test_loss = 0\n",
        "    correct = 0\n",
        "    with torch.no_grad():\n",
        "        for data, target in test_loader:\n",
        "            data, target = data.to(device), target.to(device)\n",
        "            output = model(data)\n",
        "            test_loss += F.nll_loss(output, target, reduction='sum').item()  # sum up batch loss\n",
        "            pred = output.argmax(dim=1, keepdim=True)  # get the index of the max log-probability\n",
        "            correct += pred.eq(target.view_as(pred)).sum().item()\n",
        "\n",
        "    test_loss /= len(test_loader.dataset)\n",
        "\n",
        "    print('\\nTest set: Average loss: {:.4f}, Accuracy: {}/{} ({:.2f}%)\\n'.format(\n",
        "        test_loss, correct, len(test_loader.dataset),\n",
        "        100. * correct / len(test_loader.dataset)))"
      ],
      "execution_count": 5,
      "outputs": []
    },
    {
      "cell_type": "code",
      "metadata": {
        "id": "MMWbLWO6FuHb",
        "colab": {
          "base_uri": "https://localhost:8080/"
        },
        "outputId": "4499c585-baca-41b9-edf7-67ba85837596"
      },
      "source": [
        "\n",
        "model = Net().to(device)\n",
        "optimizer = optim.SGD(model.parameters(), lr=0.01, momentum=0.9)\n",
        "\n",
        "for epoch in range(1, 21):\n",
        "    train(model, device, train_loader, optimizer, epoch)\n",
        "    test(model, device, test_loader)"
      ],
      "execution_count": 6,
      "outputs": [
        {
          "output_type": "stream",
          "name": "stderr",
          "text": [
            "\r  0%|          | 0/469 [00:00<?, ?it/s]<ipython-input-2-c73bf9564b0f>:46: UserWarning: Implicit dimension choice for log_softmax has been deprecated. Change the call to include dim=X as an argument.\n",
            "  return F.log_softmax(x)\n",
            "epoch: 1 loss=0.26959434151649475 batch_id=468: 100%|██████████| 469/469 [00:27<00:00, 17.26it/s]\n"
          ]
        },
        {
          "output_type": "stream",
          "name": "stdout",
          "text": [
            "\n",
            "Test set: Average loss: 0.1136, Accuracy: 9676/10000 (96.76%)\n",
            "\n"
          ]
        },
        {
          "output_type": "stream",
          "name": "stderr",
          "text": [
            "epoch: 2 loss=0.1370391547679901 batch_id=468: 100%|██████████| 469/469 [00:21<00:00, 22.18it/s]\n"
          ]
        },
        {
          "output_type": "stream",
          "name": "stdout",
          "text": [
            "\n",
            "Test set: Average loss: 0.0630, Accuracy: 9809/10000 (98.09%)\n",
            "\n"
          ]
        },
        {
          "output_type": "stream",
          "name": "stderr",
          "text": [
            "epoch: 3 loss=0.13154365122318268 batch_id=468: 100%|██████████| 469/469 [00:21<00:00, 21.33it/s]\n"
          ]
        },
        {
          "output_type": "stream",
          "name": "stdout",
          "text": [
            "\n",
            "Test set: Average loss: 0.0454, Accuracy: 9873/10000 (98.73%)\n",
            "\n"
          ]
        },
        {
          "output_type": "stream",
          "name": "stderr",
          "text": [
            "epoch: 4 loss=0.10736290365457535 batch_id=468: 100%|██████████| 469/469 [00:22<00:00, 20.71it/s]\n"
          ]
        },
        {
          "output_type": "stream",
          "name": "stdout",
          "text": [
            "\n",
            "Test set: Average loss: 0.0401, Accuracy: 9881/10000 (98.81%)\n",
            "\n"
          ]
        },
        {
          "output_type": "stream",
          "name": "stderr",
          "text": [
            "epoch: 5 loss=0.03374688699841499 batch_id=468: 100%|██████████| 469/469 [00:21<00:00, 21.74it/s]\n"
          ]
        },
        {
          "output_type": "stream",
          "name": "stdout",
          "text": [
            "\n",
            "Test set: Average loss: 0.0376, Accuracy: 9882/10000 (98.82%)\n",
            "\n"
          ]
        },
        {
          "output_type": "stream",
          "name": "stderr",
          "text": [
            "epoch: 6 loss=0.019668016582727432 batch_id=468: 100%|██████████| 469/469 [00:21<00:00, 22.27it/s]\n"
          ]
        },
        {
          "output_type": "stream",
          "name": "stdout",
          "text": [
            "\n",
            "Test set: Average loss: 0.0308, Accuracy: 9904/10000 (99.04%)\n",
            "\n"
          ]
        },
        {
          "output_type": "stream",
          "name": "stderr",
          "text": [
            "epoch: 7 loss=0.13404004275798798 batch_id=468: 100%|██████████| 469/469 [00:20<00:00, 22.38it/s]\n"
          ]
        },
        {
          "output_type": "stream",
          "name": "stdout",
          "text": [
            "\n",
            "Test set: Average loss: 0.0299, Accuracy: 9901/10000 (99.01%)\n",
            "\n"
          ]
        },
        {
          "output_type": "stream",
          "name": "stderr",
          "text": [
            "epoch: 8 loss=0.03956088051199913 batch_id=468: 100%|██████████| 469/469 [00:21<00:00, 21.82it/s]\n"
          ]
        },
        {
          "output_type": "stream",
          "name": "stdout",
          "text": [
            "\n",
            "Test set: Average loss: 0.0289, Accuracy: 9904/10000 (99.04%)\n",
            "\n"
          ]
        },
        {
          "output_type": "stream",
          "name": "stderr",
          "text": [
            "epoch: 9 loss=0.0870099887251854 batch_id=468: 100%|██████████| 469/469 [00:21<00:00, 21.37it/s]\n"
          ]
        },
        {
          "output_type": "stream",
          "name": "stdout",
          "text": [
            "\n",
            "Test set: Average loss: 0.0278, Accuracy: 9904/10000 (99.04%)\n",
            "\n"
          ]
        },
        {
          "output_type": "stream",
          "name": "stderr",
          "text": [
            "epoch: 10 loss=0.034449175000190735 batch_id=468: 100%|██████████| 469/469 [00:22<00:00, 21.24it/s]\n"
          ]
        },
        {
          "output_type": "stream",
          "name": "stdout",
          "text": [
            "\n",
            "Test set: Average loss: 0.0247, Accuracy: 9918/10000 (99.18%)\n",
            "\n"
          ]
        },
        {
          "output_type": "stream",
          "name": "stderr",
          "text": [
            "epoch: 11 loss=0.056698545813560486 batch_id=468: 100%|██████████| 469/469 [00:21<00:00, 21.32it/s]\n"
          ]
        },
        {
          "output_type": "stream",
          "name": "stdout",
          "text": [
            "\n",
            "Test set: Average loss: 0.0225, Accuracy: 9923/10000 (99.23%)\n",
            "\n"
          ]
        },
        {
          "output_type": "stream",
          "name": "stderr",
          "text": [
            "epoch: 12 loss=0.06541953980922699 batch_id=468: 100%|██████████| 469/469 [00:22<00:00, 20.95it/s]\n"
          ]
        },
        {
          "output_type": "stream",
          "name": "stdout",
          "text": [
            "\n",
            "Test set: Average loss: 0.0224, Accuracy: 9930/10000 (99.30%)\n",
            "\n"
          ]
        },
        {
          "output_type": "stream",
          "name": "stderr",
          "text": [
            "epoch: 13 loss=0.01899179443717003 batch_id=468: 100%|██████████| 469/469 [00:21<00:00, 21.32it/s]\n"
          ]
        },
        {
          "output_type": "stream",
          "name": "stdout",
          "text": [
            "\n",
            "Test set: Average loss: 0.0211, Accuracy: 9937/10000 (99.37%)\n",
            "\n"
          ]
        },
        {
          "output_type": "stream",
          "name": "stderr",
          "text": [
            "epoch: 14 loss=0.0068947430700063705 batch_id=468: 100%|██████████| 469/469 [00:21<00:00, 21.44it/s]\n"
          ]
        },
        {
          "output_type": "stream",
          "name": "stdout",
          "text": [
            "\n",
            "Test set: Average loss: 0.0213, Accuracy: 9926/10000 (99.26%)\n",
            "\n"
          ]
        },
        {
          "output_type": "stream",
          "name": "stderr",
          "text": [
            "epoch: 15 loss=0.016395939514040947 batch_id=468: 100%|██████████| 469/469 [00:21<00:00, 21.64it/s]\n"
          ]
        },
        {
          "output_type": "stream",
          "name": "stdout",
          "text": [
            "\n",
            "Test set: Average loss: 0.0218, Accuracy: 9929/10000 (99.29%)\n",
            "\n"
          ]
        },
        {
          "output_type": "stream",
          "name": "stderr",
          "text": [
            "epoch: 16 loss=0.05409136414527893 batch_id=468: 100%|██████████| 469/469 [00:21<00:00, 21.47it/s]\n"
          ]
        },
        {
          "output_type": "stream",
          "name": "stdout",
          "text": [
            "\n",
            "Test set: Average loss: 0.0197, Accuracy: 9936/10000 (99.36%)\n",
            "\n"
          ]
        },
        {
          "output_type": "stream",
          "name": "stderr",
          "text": [
            "epoch: 17 loss=0.02975454181432724 batch_id=468: 100%|██████████| 469/469 [00:21<00:00, 21.35it/s]\n"
          ]
        },
        {
          "output_type": "stream",
          "name": "stdout",
          "text": [
            "\n",
            "Test set: Average loss: 0.0206, Accuracy: 9929/10000 (99.29%)\n",
            "\n"
          ]
        },
        {
          "output_type": "stream",
          "name": "stderr",
          "text": [
            "epoch: 18 loss=0.04379752278327942 batch_id=468: 100%|██████████| 469/469 [00:21<00:00, 21.44it/s]\n"
          ]
        },
        {
          "output_type": "stream",
          "name": "stdout",
          "text": [
            "\n",
            "Test set: Average loss: 0.0189, Accuracy: 9943/10000 (99.43%)\n",
            "\n"
          ]
        },
        {
          "output_type": "stream",
          "name": "stderr",
          "text": [
            "epoch: 19 loss=0.056820958852767944 batch_id=468: 100%|██████████| 469/469 [00:21<00:00, 22.33it/s]\n"
          ]
        },
        {
          "output_type": "stream",
          "name": "stdout",
          "text": [
            "\n",
            "Test set: Average loss: 0.0193, Accuracy: 9936/10000 (99.36%)\n",
            "\n"
          ]
        },
        {
          "output_type": "stream",
          "name": "stderr",
          "text": [
            "epoch: 20 loss=0.028715359047055244 batch_id=468: 100%|██████████| 469/469 [00:20<00:00, 22.50it/s]\n"
          ]
        },
        {
          "output_type": "stream",
          "name": "stdout",
          "text": [
            "\n",
            "Test set: Average loss: 0.0187, Accuracy: 9938/10000 (99.38%)\n",
            "\n"
          ]
        }
      ]
    }
  ]
}